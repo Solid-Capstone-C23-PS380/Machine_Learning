{
 "cells": [
  {
   "cell_type": "code",
   "execution_count": 1,
   "metadata": {},
   "outputs": [],
   "source": [
    "from selenium import webdriver\n",
    "from selenium.webdriver.chrome.service import Service\n",
    "from selenium.webdriver.chrome.options import Options\n",
    "from webdriver_manager.chrome import ChromeDriverManager\n",
    "from selenium.webdriver.common.by import By\n",
    "from selenium.webdriver.common.keys import Keys"
   ]
  },
  {
   "cell_type": "code",
   "execution_count": 6,
   "metadata": {},
   "outputs": [],
   "source": [
    "import requests\n",
    "from selenium import webdriver\n",
    "from selenium.webdriver.common.by import By\n",
    "import urllib\n",
    "import time"
   ]
  },
  {
   "cell_type": "code",
   "execution_count": 13,
   "metadata": {},
   "outputs": [],
   "source": [
    "driver = webdriver.Chrome(service=Service(ChromeDriverManager().install()))"
   ]
  },
  {
   "attachments": {},
   "cell_type": "markdown",
   "metadata": {},
   "source": [
    "# Scrapping Wayang Character"
   ]
  },
  {
   "cell_type": "code",
   "execution_count": 14,
   "metadata": {},
   "outputs": [],
   "source": [
    "def Scrapping(links, source):\n",
    "    driver.get(links)\n",
    "    print(driver.title)\n",
    "    \n",
    "    driver.execute_script(\"window.scrollTo(0,document.body.scrollHeight);\")\n",
    "    time.sleep(10)\n",
    "    imgResults = driver.find_elements(By.XPATH,\"//img[contains(@class,'rg_i Q4LuWd')]\")\n",
    "\n",
    "    src = []\n",
    "    for img in imgResults:\n",
    "        src.append(img.get_attribute('src'))\n",
    "    print(len(src))\n",
    "\n",
    "    for i in range(200):\n",
    "        try:    \n",
    "            urllib.request.urlretrieve(str(src[i]),\"Dataset/{}/{}{}.jpg\".format(source,source,i))\n",
    "        except ValueError:\n",
    "            "
   ]
  },
  {
   "cell_type": "code",
   "execution_count": 15,
   "metadata": {},
   "outputs": [
    {
     "name": "stdout",
     "output_type": "stream",
     "text": [
      "wayang krisna - Google Search\n",
      "400\n"
     ]
    }
   ],
   "source": [
    "Scrapping(\"https://www.google.com/search?q=wayang+krisna&tbm=isch&ved=2ahUKEwitmdKOqeL-AhUVx6ACHVZjCnEQ2-cCegQIABAA&oq=wayang+krisna&gs_lcp=CgNpbWcQAzIFCAAQgAQyBggAEAUQHjIGCAAQCBAeMgQIABAeMgQIABAeMgQIABAeMgQIABAeMgYIABAFEB4yBggAEAUQHjIGCAAQCBAeOgYIABAHEB46BwgAEIAEEAo6CAgAEIAEELEDUL0EWP0iYPsjaARwAHgAgAHPAYgB-AuSAQYxNS4xLjGYAQCgAQGqAQtnd3Mtd2l6LWltZ8ABAQ&sclient=img&ei=eiJXZK30CZWOg8UP1sapiAc&bih=674&biw=1036\",'Krisna')"
   ]
  },
  {
   "attachments": {},
   "cell_type": "markdown",
   "metadata": {},
   "source": [
    "# AKSjdlsajdlksj"
   ]
  },
  {
   "cell_type": "code",
   "execution_count": 52,
   "metadata": {},
   "outputs": [
    {
     "name": "stdout",
     "output_type": "stream",
     "text": [
      "wayang gatotkaca - Google Search\n"
     ]
    }
   ],
   "source": [
    "driver.get(\"https://www.google.com/search?q=wayang+gatotkaca&tbm=isch&ved=2ahUKEwjM9a2ezNv-AhWKArcAHc_mBUYQ2-cCegQIABAA&oq=wayang+gatotkaca&gs_lcp=CgNpbWcQAzIFCAAQgAQyBQgAEIAEMgUIABCABDIFCAAQgAQyBQgAEIAEMgQIABAeMgQIABAeMgQIABAeMgQIABAeMgQIABAeOgYIABAHEB46BggAEAUQHjoGCAAQCBAeOggIABCABBCxAzoICAAQBRAeEApQ8wJYgitg-jRoAnAAeACAAUiIAfUJkgECMjCYAQCgAQGqAQtnd3Mtd2l6LWltZ8ABAQ&sclient=img&ei=yJtTZMzxC4qF3LUPz82XsAQ&bih=674&biw=1036&rlz=1C1ONGR_enID1054ID1054\")\n",
    "print(driver.title)"
   ]
  },
  {
   "cell_type": "code",
   "execution_count": 53,
   "metadata": {},
   "outputs": [],
   "source": [
    "for i in range(10):\n",
    "    driver.execute_script(\"window.scrollTo(0,document.body.scrollHeight);\")"
   ]
  },
  {
   "cell_type": "code",
   "execution_count": 54,
   "metadata": {},
   "outputs": [],
   "source": [
    "imgResults = driver.find_elements(By.XPATH,\"//img[contains(@class,'rg_i Q4LuWd')]\")\n",
    "\n",
    "src = []\n",
    "for img in imgResults:\n",
    "    src.append(img.get_attribute('src'))"
   ]
  },
  {
   "cell_type": "code",
   "execution_count": 55,
   "metadata": {},
   "outputs": [
    {
     "data": {
      "text/plain": [
       "521"
      ]
     },
     "execution_count": 55,
     "metadata": {},
     "output_type": "execute_result"
    }
   ],
   "source": [
    "len(src)"
   ]
  },
  {
   "cell_type": "code",
   "execution_count": 56,
   "metadata": {},
   "outputs": [],
   "source": [
    "for i in range(200):    \n",
    "    urllib.request.urlretrieve(str(src[i]),\"Gatot Kaca/Gatot Kaca{}.jpg\".format(i))"
   ]
  },
  {
   "cell_type": "code",
   "execution_count": null,
   "metadata": {},
   "outputs": [],
   "source": []
  }
 ],
 "metadata": {
  "kernelspec": {
   "display_name": "Python 3",
   "language": "python",
   "name": "python3"
  },
  "language_info": {
   "codemirror_mode": {
    "name": "ipython",
    "version": 3
   },
   "file_extension": ".py",
   "mimetype": "text/x-python",
   "name": "python",
   "nbconvert_exporter": "python",
   "pygments_lexer": "ipython3",
   "version": "3.10.10"
  },
  "orig_nbformat": 4
 },
 "nbformat": 4,
 "nbformat_minor": 2
}
